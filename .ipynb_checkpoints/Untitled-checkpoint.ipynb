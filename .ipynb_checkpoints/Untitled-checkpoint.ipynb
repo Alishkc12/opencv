{
 "cells": [
  {
   "cell_type": "markdown",
   "metadata": {},
   "source": [
    "#### read image and save if necessary (press s to save after photo is loaded)"
   ]
  },
  {
   "cell_type": "code",
   "execution_count": null,
   "metadata": {},
   "outputs": [],
   "source": [
    "import cv2\n",
    "def save_pic(img,ex):\n",
    "    name=\"data/\"+img+\".\"+ex\n",
    "    img=cv2.imread(name)\n",
    "    cv2.imshow('image',img)\n",
    "    k=cv2.waitKey(0)\n",
    "    if k==27:\n",
    "        cv2.destroyAllWindows()\n",
    "    elif k==ord('s'):    \n",
    "        cv2.imwrite('new_saved_pic.png',img)\n",
    "        cv2.destroyAllWindows()\n",
    "img=input('enter image name')\n",
    "extension=input('extension?')\n",
    "save_pic(img,extension)        "
   ]
  },
  {
   "cell_type": "markdown",
   "metadata": {},
   "source": [
    "#### play video by webcam image and save video"
   ]
  },
  {
   "cell_type": "code",
   "execution_count": null,
   "metadata": {},
   "outputs": [],
   "source": [
    "import cv2\n",
    "import datetime\n",
    "cap=cv2.VideoCapture(0)\n",
    "fourcc=cv2.VideoWriter_fourcc(*'XVID')\n",
    "output=cv2.VideoWriter('output.avi',fourcc,20.0,(640,480))\n",
    "cap.set(3,1280)\n",
    "cap.set(4,720)\n",
    "print(cap.get(3))\n",
    "print(cap.get(4))\n",
    "while(cap.isOpened()):\n",
    "    \n",
    "    \n",
    "    ret,frame=cap.read()\n",
    "    if(ret==True):\n",
    "        timee=str(datetime.datetime.now())\n",
    "        font=cv2.FONT_HERSHEY_TRIPLEX\n",
    "        frame=cv2.putText(frame,timee,(0,50),font,1,(255,0,0),4,cv2.LINE_AA)\n",
    "        gray=cv2.cvtColor(frame,cv2.COLOR_BGR2GRAY)\n",
    "        print(cap.get(cv2.CAP_PROP_FRAME_WIDTH))\n",
    "        print(cap.get(cv2.CAP_PROP_SHARPNESS))\n",
    "        \n",
    "        #     FOR MORE https://docs.opencv.org/4.0.0/d4/d15/group__videoio__flags__base.html#gaeb8dd9c89c10a5c63c139bf7c4f5704d\n",
    "        output.write(frame)\n",
    "        cv2.imshow('video',frame)\n",
    "        if(cv2.waitKey(1)==27):\n",
    "            break\n",
    "    else:    \n",
    "        break\n",
    "cap.release()\n",
    "cv2.destroyAllWindows()\n"
   ]
  },
  {
   "cell_type": "markdown",
   "metadata": {},
   "source": [
    "#### opencv drawing shapes in img"
   ]
  },
  {
   "cell_type": "code",
   "execution_count": null,
   "metadata": {},
   "outputs": [],
   "source": [
    "import cv2 \n",
    "import numpy as np\n",
    "# img=np.zeros([255,255,3],np.uint8)\n",
    "img=cv2.imread('data/baboon.jpg')\n",
    "cv2.line(img,(0,0),(255,255),(0,255,0),10)\n",
    "cv2.arrowedLine(img,(270,0),(300,255),(0,255,0),10)\n",
    "cv2.rectangle(img,(0,280),(280,480),(0,255,0),10)\n",
    "cv2.circle(img,(200,200),50,(0,0,255),-1)\n",
    "font=cv2.FONT_HERSHEY_TRIPLEX\n",
    "cv2.putText(img,'alish',(10,500),font,6,(255,0,0),7,cv2.LINE_AA)\n",
    "cv2.imshow('image',img)\n",
    "cv2.waitKey(0)\n",
    "cv2.destroyAllWindows()"
   ]
  },
  {
   "cell_type": "markdown",
   "metadata": {},
   "source": [
    "#### mouse event in opencv"
   ]
  },
  {
   "cell_type": "code",
   "execution_count": null,
   "metadata": {},
   "outputs": [],
   "source": [
    "import cv2\n",
    "import numpy as np\n",
    "# event=[i for i in dir(cv2) if 'EVENT' in i ]\n",
    "def click_event(event,x,y,flags,param):\n",
    "    if(event==cv2.EVENT_LBUTTONDOWN):\n",
    "        stringxy=str(x)+','+str(y)\n",
    "        font=cv2.FONT_HERSHEY_SIMPLEX\n",
    "        cv2.putText(img,stringxy,(x,y),font,.5,(0,255,0),2)\n",
    "        cv2.imshow('image',img)\n",
    "        \n",
    "        \n",
    "    if event == cv2.EVENT_RBUTTONDOWN:\n",
    "        blue = img[x, y, 0]\n",
    "        green = img[x, y, 1]\n",
    "        red = img[x, y, 2]\n",
    "        font = cv2.FONT_HERSHEY_SIMPLEX\n",
    "        strBGR = str(blue) + ', '+ str(green)+ ', '+ str(red)\n",
    "        cv2.putText(img, strBGR, (x, y), font, .5, (0, 255, 255), 2)\n",
    "        \n",
    "        cv2.imshow('image', img)\n",
    "img = np.zeros((512, 512, 3), np.uint8)\n",
    "\n",
    "cv2.imshow('image', img)\n",
    "\n",
    "cv2.setMouseCallback('image', click_event)\n",
    "\n",
    "cv2.waitKey(0)\n",
    "cv2.destroyAllWindows()\n",
    "        \n",
    "        "
   ]
  },
  {
   "cell_type": "markdown",
   "metadata": {},
   "source": [
    "#### polygonal tool     "
   ]
  },
  {
   "cell_type": "code",
   "execution_count": null,
   "metadata": {},
   "outputs": [],
   "source": [
    "import cv2\n",
    "def click_event(event,x,y,flag,param):\n",
    "    \n",
    "    if event==cv2.EVENT_LBUTTONDOWN:\n",
    "        cv2.circle(img,(x,y),3,(255,0,0),-1)\n",
    "        points.append((x,y))\n",
    "        if(len(points)>=2):\n",
    "            cv2.line(img,points[-1],points[-2],(0,255,0),2)\n",
    "            \n",
    "    cv2.imshow('image', img)        \n",
    "points=[]\n",
    "img=cv2.imread('data/baboon.jpg')\n",
    "cv2.imshow('image', img)\n",
    "cv2.setMouseCallback('image', click_event)\n",
    "cv2.waitKey(0)\n",
    "cv2.destroyAllWindows()   "
   ]
  },
  {
   "cell_type": "markdown",
   "metadata": {},
   "source": [
    "#### eyedropeer tool"
   ]
  },
  {
   "cell_type": "code",
   "execution_count": null,
   "metadata": {},
   "outputs": [],
   "source": [
    "import cv2\n",
    "def click_event(event,x,y,flag,param):\n",
    "    if event==cv2.EVENT_LBUTTONDOWN:\n",
    "        \n",
    "        \n",
    "        blue=img[x,y,0]\n",
    "        green=img[x,y,1]\n",
    "        red=img[x,y,2]\n",
    "        cv2.circle(img,(x,y),5,(255,0,0),-1)\n",
    "        newimage=np.zeros((512,512,3),np.uint8)\n",
    "        newimage[:]=[blue,green,red]\n",
    "       \n",
    "        \n",
    "        \n",
    "    \n",
    "        cv2.imshow('images',newimage) \n",
    "        \n",
    "        \n",
    "img=cv2.imread('data/baboon.jpg')\n",
    "cv2.imshow('image',img)\n",
    "cv2.setMouseCallback('image',click_event)\n",
    "cv2.waitKey(0)\n",
    "cv2.destroyAllWindows()\n",
    "\n"
   ]
  },
  {
   "cell_type": "markdown",
   "metadata": {},
   "source": [
    "#### trackbar "
   ]
  },
  {
   "cell_type": "code",
   "execution_count": 4,
   "metadata": {},
   "outputs": [
    {
     "ename": "TypeError",
     "evalue": "function takes exactly 5 arguments (4 given)",
     "output_type": "error",
     "traceback": [
      "\u001b[1;31m---------------------------------------------------------------------------\u001b[0m",
      "\u001b[1;31mTypeError\u001b[0m                                 Traceback (most recent call last)",
      "\u001b[1;32m<ipython-input-4-f1f2b2cb9d9a>\u001b[0m in \u001b[0;36m<module>\u001b[1;34m\u001b[0m\n\u001b[0;32m      6\u001b[0m \u001b[0mimg\u001b[0m\u001b[1;33m=\u001b[0m\u001b[0mcv2\u001b[0m\u001b[1;33m.\u001b[0m\u001b[0mresize\u001b[0m\u001b[1;33m(\u001b[0m\u001b[0mimg\u001b[0m\u001b[1;33m,\u001b[0m\u001b[1;33m(\u001b[0m\u001b[1;36m512\u001b[0m\u001b[1;33m,\u001b[0m\u001b[1;36m512\u001b[0m\u001b[1;33m)\u001b[0m\u001b[1;33m)\u001b[0m\u001b[1;33m\u001b[0m\u001b[1;33m\u001b[0m\u001b[0m\n\u001b[0;32m      7\u001b[0m \u001b[0mcv2\u001b[0m\u001b[1;33m.\u001b[0m\u001b[0mnamedWindow\u001b[0m\u001b[1;33m(\u001b[0m\u001b[1;34m'image'\u001b[0m\u001b[1;33m)\u001b[0m\u001b[1;33m\u001b[0m\u001b[1;33m\u001b[0m\u001b[0m\n\u001b[1;32m----> 8\u001b[1;33m \u001b[0mcv2\u001b[0m\u001b[1;33m.\u001b[0m\u001b[0mcreateTrackbar\u001b[0m\u001b[1;33m(\u001b[0m\u001b[1;34m'B'\u001b[0m\u001b[1;33m,\u001b[0m \u001b[1;34m'image'\u001b[0m\u001b[1;33m,\u001b[0m \u001b[1;36m0\u001b[0m\u001b[1;33m,\u001b[0m \u001b[1;36m255\u001b[0m\u001b[1;33m)\u001b[0m\u001b[1;33m\u001b[0m\u001b[1;33m\u001b[0m\u001b[0m\n\u001b[0m\u001b[0;32m      9\u001b[0m \u001b[0mcv2\u001b[0m\u001b[1;33m.\u001b[0m\u001b[0mcreateTrackbar\u001b[0m\u001b[1;33m(\u001b[0m\u001b[1;34m'G'\u001b[0m\u001b[1;33m,\u001b[0m \u001b[1;34m'image'\u001b[0m\u001b[1;33m,\u001b[0m \u001b[1;36m0\u001b[0m\u001b[1;33m,\u001b[0m \u001b[1;36m255\u001b[0m\u001b[1;33m)\u001b[0m\u001b[1;33m\u001b[0m\u001b[1;33m\u001b[0m\u001b[0m\n\u001b[0;32m     10\u001b[0m \u001b[0mcv2\u001b[0m\u001b[1;33m.\u001b[0m\u001b[0mcreateTrackbar\u001b[0m\u001b[1;33m(\u001b[0m\u001b[1;34m'R'\u001b[0m\u001b[1;33m,\u001b[0m \u001b[1;34m'image'\u001b[0m\u001b[1;33m,\u001b[0m \u001b[1;36m0\u001b[0m\u001b[1;33m,\u001b[0m \u001b[1;36m255\u001b[0m\u001b[1;33m)\u001b[0m\u001b[1;33m\u001b[0m\u001b[1;33m\u001b[0m\u001b[0m\n",
      "\u001b[1;31mTypeError\u001b[0m: function takes exactly 5 arguments (4 given)"
     ]
    }
   ],
   "source": [
    "import cv2\n",
    "import numpy as np\n",
    "def nothing(x):\n",
    "    return x\n",
    "img=np.zeros([255,255,3],np.uint8)\n",
    "img=cv2.resize(img,(512,512))\n",
    "cv2.namedWindow('image')\n",
    "cv2.createTrackbar('B', 'image', 0, 255)\n",
    "cv2.createTrackbar('G', 'image', 0, 255)\n",
    "cv2.createTrackbar('R', 'image', 0, 255)\n",
    "s='o for off and 1 for 1'\n",
    "cv2.createTrackbar(s, 'image', 0, 1)\n",
    "\n",
    "while(1):\n",
    "    cv2.imshow('image',img)\n",
    "    k=cv2.waitKey(1)\n",
    "    if(k==27):\n",
    "        break\n",
    "    b = cv2.getTrackbarPos('B', 'image')\n",
    "    g = cv2.getTrackbarPos('G', 'image')\n",
    "    r = cv2.getTrackbarPos('R', 'image')\n",
    "    si=cv2.getTrackbarPos(s,'image')\n",
    "    if si == 0:\n",
    "        img[:] = 0\n",
    "    else:\n",
    "        img[:] = [b, g, r]\n",
    "cv2.destroyAllWindows()"
   ]
  },
  {
   "cell_type": "code",
   "execution_count": 3,
   "metadata": {},
   "outputs": [
    {
     "name": "stdout",
     "output_type": "stream",
     "text": [
      "1\n",
      "0\n",
      "90\n",
      "170\n",
      "250\n",
      "170\n",
      "250\n",
      "330\n",
      "400\n",
      "320\n",
      "240\n",
      "160\n",
      "80\n",
      "0\n"
     ]
    }
   ],
   "source": [
    "import numpy as np\n",
    "import cv2 as cv\n",
    "\n",
    "def nothing(x):\n",
    "    print(x)\n",
    "\n",
    "# Create a black image, a window\n",
    "cv.namedWindow('image')\n",
    "cv.createTrackbar('CP', 'image', 10, 400, nothing)\n",
    "switch = 'color/gray'\n",
    "cv.createTrackbar(switch, 'image', 0, 1, nothing)\n",
    "while(1):\n",
    "    img = cv.imread('data/baboon.jpg')\n",
    "    pos = cv.getTrackbarPos('CP', 'image')\n",
    "    font = cv.FONT_HERSHEY_SIMPLEX\n",
    "    cv.putText(img, str(pos), (50, 150), font, 6, (0, 0, 255), 10)\n",
    "\n",
    "    k = cv.waitKey(1) & 0xFF\n",
    "    if k == 27:\n",
    "        break\n",
    "\n",
    "    s = cv.getTrackbarPos(switch, 'image')\n",
    "\n",
    "    if s == 0:\n",
    "       pass\n",
    "    else:\n",
    "       img = cv.cvtColor(img, cv.COLOR_BGR2GRAY)\n",
    "\n",
    "    img = cv.imshow('image',img)\n",
    "\n",
    "cv.destroyAllWindows()\n"
   ]
  },
  {
   "cell_type": "code",
   "execution_count": null,
   "metadata": {},
   "outputs": [],
   "source": []
  },
  {
   "cell_type": "code",
   "execution_count": null,
   "metadata": {},
   "outputs": [],
   "source": []
  }
 ],
 "metadata": {
  "kernelspec": {
   "display_name": "Python 3",
   "language": "python",
   "name": "python3"
  },
  "language_info": {
   "codemirror_mode": {
    "name": "ipython",
    "version": 3
   },
   "file_extension": ".py",
   "mimetype": "text/x-python",
   "name": "python",
   "nbconvert_exporter": "python",
   "pygments_lexer": "ipython3",
   "version": "3.7.3"
  }
 },
 "nbformat": 4,
 "nbformat_minor": 2
}
